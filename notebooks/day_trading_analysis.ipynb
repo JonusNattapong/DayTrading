{
 "cells": [
  {
   "cell_type": "markdown",
   "id": "17e0ce9e",
   "metadata": {},
   "source": [
    "# Day Trading Strategy Analysis\n",
    "\n",
    "This notebook provides interactive analysis of day trading strategies using technical indicators like Moving Averages, Bollinger Bands, RSI, and MACD.\n",
    "\n",
    "## Setup and Data Loading"
   ]
  },
  {
   "cell_type": "code",
   "execution_count": null,
   "id": "dca29d61",
   "metadata": {},
   "outputs": [],
   "source": [
    "import os\n",
    "import sys\n",
    "import json\n",
    "import pandas as pd\n",
    "import numpy as np\n",
    "import matplotlib.pyplot as plt\n",
    "from datetime import datetime, timedelta\n",
    "import seaborn as sns\n",
    "\n",
    "# Add the project root to the Python path\n",
    "sys.path.append(os.path.abspath('..'))\n",
    "\n",
    "# Import project modules\n",
    "from data.data_loader import download_data, load_data, process_data_for_day_trading\n",
    "from indicators.technical_indicators import sma, ema, bollinger_bands, rsi, macd\n",
    "from strategy.day_trading_strategy import DayTradingStrategy\n",
    "from backtest.backtester import DayTradingBacktester\n",
    "from visualization.chart_visualizer import plot_price_with_indicators, plot_trades, plot_equity_curve, plot_performance_summary\n",
    "from utils.analysis import analyze_trades, compare_timeframes\n",
    "from utils.optimizer import StrategyOptimizer, optimize_strategy\n",
    "\n",
    "# Set up plotting style\n",
    "plt.style.use('seaborn-darkgrid')\n",
    "plt.rcParams['figure.figsize'] = (15, 8)\n",
    "sns.set_context(\"notebook\")\n",
    "\n",
    "# Display all columns\n",
    "pd.set_option('display.max_columns', None)"
   ]
  },
  {
   "cell_type": "markdown",
   "id": "9c1c1afc",
   "metadata": {},
   "source": [
    "## Load Configuration"
   ]
  },
  {
   "cell_type": "code",
   "execution_count": null,
   "id": "fa30228b",
   "metadata": {},
   "outputs": [],
   "source": [
    "# Load the configuration file\n",
    "def load_config(config_path='../config/config.json'):\n",
    "    with open(config_path, 'r') as f:\n",
    "        config = json.load(f)\n",
    "    return config\n",
    "\n",
    "config = load_config()\n",
    "config"
   ]
  },
  {
   "cell_type": "markdown",
   "id": "6b0fba87",
   "metadata": {},
   "source": [
    "## Download or Load Market Data"
   ]
  },
  {
   "cell_type": "code",
   "execution_count": null,
   "id": "ddd4606a",
   "metadata": {},
   "outputs": [],
   "source": [
    "# Set parameters for data download\n",
    "symbol = \"AAPL\"  # Change this to the symbol you want to analyze\n",
    "start_date = \"2023-01-01\"\n",
    "end_date = \"2023-12-31\"\n",
    "timeframe = \"15m\"  # Options: '1m', '5m', '15m', '30m', '1h', '1d'\n",
    "\n",
    "# Download or load data\n",
    "data_dir = config['data']['data_dir']\n",
    "cache_filename = f\"{symbol}_{timeframe}_{start_date.replace('-', '')}_{end_date.replace('-', '')}.csv\"\n",
    "cache_path = os.path.join(data_dir, cache_filename)\n",
    "\n",
    "if os.path.exists(cache_path) and config['data']['use_cached_data']:\n",
    "    print(f\"Loading cached data from {cache_path}\")\n",
    "    df = load_data(cache_path)\n",
    "else:\n",
    "    print(f\"Downloading data for {symbol} from {start_date} to {end_date}\")\n",
    "    df = download_data(symbol, start_date, end_date, timeframe, True, data_dir)\n",
    "\n",
    "# Process data for day trading if trading hours are specified\n",
    "if 'trading_hours' in config['backtest']:\n",
    "    start_hour = config['backtest']['trading_hours']['start']\n",
    "    end_hour = config['backtest']['trading_hours']['end']\n",
    "    df = process_data_for_day_trading(df, (start_hour, end_hour))\n",
    "\n",
    "# Display basic information about the data\n",
    "print(f\"Data shape: {df.shape}\")\n",
    "print(f\"Date range: {df.index[0]} to {df.index[-1]}\")\n",
    "df.head()"
   ]
  },
  {
   "cell_type": "markdown",
   "id": "2a5d8cee",
   "metadata": {},
   "source": [
    "## Calculate Technical Indicators"
   ]
  },
  {
   "cell_type": "code",
   "execution_count": null,
   "id": "22580e30",
   "metadata": {},
   "outputs": [],
   "source": [
    "# Create a copy of the data\n",
    "analysis_df = df.copy()\n",
    "\n",
    "# Get indicator parameters from config\n",
    "indicator_params = config['strategy']['indicators']\n",
    "\n",
    "# Calculate Moving Averages\n",
    "analysis_df['sma_fast'] = sma(analysis_df['close'], indicator_params['sma_fast_period'])\n",
    "analysis_df['sma_slow'] = sma(analysis_df['close'], indicator_params['sma_slow_period'])\n",
    "analysis_df['ema_fast'] = ema(analysis_df['close'], indicator_params['sma_fast_period'])\n",
    "analysis_df['ema_slow'] = ema(analysis_df['close'], indicator_params['sma_slow_period'])\n",
    "\n",
    "# Calculate Bollinger Bands\n",
    "upper_band, middle_band, lower_band = bollinger_bands(\n",
    "    analysis_df['close'], \n",
    "    indicator_params['bb_period'],\n",
    "    indicator_params['bb_std']\n",
    ")\n",
    "analysis_df['bb_upper'] = upper_band\n",
    "analysis_df['bb_middle'] = middle_band\n",
    "analysis_df['bb_lower'] = lower_band\n",
    "\n",
    "# Calculate RSI\n",
    "analysis_df['rsi'] = rsi(analysis_df['close'], indicator_params['rsi_period'])\n",
    "\n",
    "# Calculate MACD\n",
    "macd_line, signal_line, histogram = macd(\n",
    "    analysis_df['close'],\n",
    "    indicator_params['macd_fast_period'],\n",
    "    indicator_params['macd_slow_period'],\n",
    "    indicator_params['macd_signal_period']\n",
    ")\n",
    "analysis_df['macd_line'] = macd_line\n",
    "analysis_df['macd_signal'] = signal_line\n",
    "analysis_df['macd_histogram'] = histogram\n",
    "\n",
    "# Remove NaN values\n",
    "analysis_df = analysis_df.dropna()\n",
    "\n",
    "# Display the first few rows\n",
    "analysis_df.head()"
   ]
  },
  {
   "cell_type": "markdown",
   "id": "4ef8913f",
   "metadata": {},
   "source": [
    "## Visualize Price and Indicators"
   ]
  },
  {
   "cell_type": "code",
   "execution_count": null,
   "id": "3e10e7ff",
   "metadata": {},
   "outputs": [],
   "source": [
    "# Plot price with indicators\n",
    "plot_price_with_indicators(analysis_df, title=f\"{symbol} - Price Chart with Indicators\")"
   ]
  },
  {
   "cell_type": "markdown",
   "id": "b38aa460",
   "metadata": {},
   "source": [
    "## Run Backtest"
   ]
  },
  {
   "cell_type": "code",
   "execution_count": null,
   "id": "acc5e899",
   "metadata": {},
   "outputs": [],
   "source": [
    "# Create strategy with parameters from config\n",
    "strategy_config = {\n",
    "    **config['strategy']['indicators'],\n",
    "    **config['strategy']['risk_management']\n",
    "}\n",
    "strategy = DayTradingStrategy(strategy_config)\n",
    "\n",
    "# Create backtester\n",
    "initial_capital = config['backtest']['initial_capital']\n",
    "backtester = DayTradingBacktester(strategy, initial_capital)\n",
    "\n",
    "# Run backtest\n",
    "results_df = backtester.run(analysis_df, timeframe)\n",
    "\n",
    "# Get performance summary\n",
    "performance = backtester.get_performance_summary()\n",
    "\n",
    "# Display performance metrics\n",
    "performance_df = pd.DataFrame({\n",
    "    'Metric': [\n",
    "        'Total Trades',\n",
    "        'Winning Trades',\n",
    "        'Losing Trades',\n",
    "        'Win Rate (%)',\n",
    "        'Average Win (%)',\n",
    "        'Average Loss (%)',\n",
    "        'Profit Factor',\n",
    "        'Total Return (%)',\n",
    "        'Max Drawdown (%)'\n",
    "    ],\n",
    "    'Value': [\n",
    "        performance['total_trades'],\n",
    "        performance['winning_trades'],\n",
    "        performance['losing_trades'],\n",
    "        performance['win_rate'] * 100,\n",
    "        performance['avg_win'],\n",
    "        performance['avg_loss'],\n",
    "        performance['profit_factor'],\n",
    "        performance['total_return'],\n",
    "        performance['max_drawdown']\n",
    "    ]\n",
    "})\n",
    "\n",
    "performance_df"
   ]
  },
  {
   "cell_type": "markdown",
   "id": "4b1872de",
   "metadata": {},
   "source": [
    "## Visualize Trades and Equity Curve"
   ]
  },
  {
   "cell_type": "code",
   "execution_count": null,
   "id": "e9eedc73",
   "metadata": {},
   "outputs": [],
   "source": [
    "# Plot trades\n",
    "plot_trades(results_df, title=f\"{symbol} - {timeframe} Trades\")\n",
    "\n",
    "# Plot equity curve\n",
    "plot_equity_curve(results_df, title=f\"{symbol} - {timeframe} Equity Curve\")\n",
    "\n",
    "# Plot performance summary\n",
    "plot_performance_summary(performance)"
   ]
  },
  {
   "cell_type": "markdown",
   "id": "5a187e2c",
   "metadata": {},
   "source": [
    "## Analyze Trades"
   ]
  },
  {
   "cell_type": "code",
   "execution_count": null,
   "id": "c1aa1c00",
   "metadata": {},
   "outputs": [],
   "source": [
    "# Extract completed trades\n",
    "trades_df = results_df[results_df['pnl'] != 0].copy()\n",
    "\n",
    "# Display basic trade information\n",
    "print(f\"Total trades: {len(trades_df)}\")\n",
    "print(f\"Winning trades: {len(trades_df[trades_df['pnl'] > 0])}\")\n",
    "print(f\"Losing trades: {len(trades_df[trades_df['pnl'] < 0])}\")\n",
    "\n",
    "# Display trade statistics\n",
    "trades_df[['signal', 'signal_reason', 'entry_price', 'exit_price', 'pnl']].head(10)"
   ]
  },
  {
   "cell_type": "markdown",
   "id": "d901de47",
   "metadata": {},
   "source": [
    "## Optimize Strategy Parameters"
   ]
  },
  {
   "cell_type": "code",
   "execution_count": null,
   "id": "59c5296c",
   "metadata": {},
   "outputs": [],
   "source": [
    "# Define parameter grid for optimization\n",
    "param_grid = {\n",
    "    'rsi_period': [7, 14, 21],\n",
    "    'rsi_oversold': [20, 30, 40],\n",
    "    'rsi_overbought': [60, 70, 80],\n",
    "    'sma_fast_period': [10, 20, 50],\n",
    "    'sma_slow_period': [50, 100, 200],\n",
    "    'bb_period': [10, 20, 30],\n",
    "    'bb_std': [1.5, 2.0, 2.5],\n",
    "    'stop_loss_pct': [0.5, 1.0, 2.0],\n",
    "    'take_profit_pct': [1.0, 2.0, 3.0]\n",
    "}\n",
    "\n",
    "# Note: To actually run the optimization, uncomment and run this code\n",
    "# It can take a long time depending on the number of parameter combinations\n",
    "\n",
    "'''\n",
    "# Define scoring function (higher is better)\n",
    "def custom_score(performance):\n",
    "    # Return based scoring with drawdown penalty\n",
    "    return performance.get('total_return', 0) - 0.5 * abs(performance.get('max_drawdown', 0))\n",
    "\n",
    "# Run optimization\n",
    "best_params, best_score, optimizer = optimize_strategy(\n",
    "    analysis_df, \n",
    "    param_grid, \n",
    "    timeframe=timeframe, \n",
    "    initial_capital=initial_capital,\n",
    "    scoring=custom_score,\n",
    "    max_combinations=50  # Limit number of combinations to test\n",
    ")\n",
    "\n",
    "print(f\"Best score: {best_score}\")\n",
    "print(f\"Best parameters: {best_params}\")\n",
    "\n",
    "# Get top strategies\n",
    "top_strategies = optimizer.get_top_n_strategies(5)\n",
    "for i, strategy in enumerate(top_strategies):\n",
    "    print(f\"\\nRank {i+1}:\")\n",
    "    print(f\"Score: {strategy['score']:.2f}\")\n",
    "    print(f\"Parameters: {strategy['params']}\")\n",
    "    print(f\"Performance: Win Rate: {strategy['performance']['win_rate']*100:.2f}%, Total Return: {strategy['performance']['total_return']:.2f}%\")\n",
    "'''"
   ]
  },
  {
   "cell_type": "markdown",
   "id": "68c8bf49",
   "metadata": {},
   "source": [
    "## Compare Different Timeframes"
   ]
  },
  {
   "cell_type": "code",
   "execution_count": null,
   "id": "7d2973b5",
   "metadata": {},
   "outputs": [],
   "source": [
    "# Note: This code shows how to compare different timeframes\n",
    "# Uncomment and run if you have data for different timeframes\n",
    "\n",
    "'''\n",
    "# List of timeframes to compare\n",
    "timeframes = ['15m', '1h']\n",
    "comparison_results = {}\n",
    "\n",
    "for tf in timeframes:\n",
    "    # Load data for this timeframe\n",
    "    cache_filename = f\"{symbol}_{tf}_{start_date.replace('-', '')}_{end_date.replace('-', '')}.csv\"\n",
    "    cache_path = os.path.join(data_dir, cache_filename)\n",
    "    \n",
    "    if os.path.exists(cache_path):\n",
    "        print(f\"Loading cached data for {tf} timeframe\")\n",
    "        tf_df = load_data(cache_path)\n",
    "    else:\n",
    "        print(f\"Downloading data for {tf} timeframe\")\n",
    "        tf_df = download_data(symbol, start_date, end_date, tf, True, data_dir)\n",
    "    \n",
    "    # Process data for day trading\n",
    "    if 'trading_hours' in config['backtest']:\n",
    "        start_hour = config['backtest']['trading_hours']['start']\n",
    "        end_hour = config['backtest']['trading_hours']['end']\n",
    "        tf_df = process_data_for_day_trading(tf_df, (start_hour, end_hour))\n",
    "    \n",
    "    # Run backtest\n",
    "    backtester = DayTradingBacktester(strategy, initial_capital)\n",
    "    results_df = backtester.run(tf_df, tf)\n",
    "    performance = backtester.get_performance_summary()\n",
    "    \n",
    "    # Store results\n",
    "    comparison_results[tf] = performance\n",
    "\n",
    "# Compare timeframes\n",
    "comparison_df = compare_timeframes({symbol: comparison_results})\n",
    "comparison_df\n",
    "'''"
   ]
  },
  {
   "cell_type": "markdown",
   "id": "63ceab60",
   "metadata": {},
   "source": [
    "## Conclusion\n",
    "\n",
    "This notebook has demonstrated how to:\n",
    "1. Load and prepare market data\n",
    "2. Calculate and visualize technical indicators\n",
    "3. Backtest a day trading strategy\n",
    "4. Analyze trading performance\n",
    "5. Optimize strategy parameters\n",
    "6. Compare different timeframes\n",
    "\n",
    "For production use, you may want to:\n",
    "1. Use a larger dataset for more reliable results\n",
    "2. Implement walk-forward testing to validate strategy robustness\n",
    "3. Add additional risk management rules\n",
    "4. Consider transaction costs and slippage\n",
    "5. Implement portfolio-level backtesting with multiple symbols"
   ]
  }
 ],
 "metadata": {
  "language_info": {
   "name": "python"
  }
 },
 "nbformat": 4,
 "nbformat_minor": 5
}
